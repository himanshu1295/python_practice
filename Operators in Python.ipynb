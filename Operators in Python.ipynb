{
  "nbformat": 4,
  "nbformat_minor": 0,
  "metadata": {
    "colab": {
      "provenance": []
    },
    "kernelspec": {
      "name": "python3",
      "display_name": "Python 3"
    },
    "language_info": {
      "name": "python"
    }
  },
  "cells": [
    {
      "cell_type": "markdown",
      "source": [
        "**Arithmetic Operators :**"
      ],
      "metadata": {
        "id": "ZjMbDSRASwRr"
      }
    },
    {
      "cell_type": "code",
      "execution_count": 1,
      "metadata": {
        "colab": {
          "base_uri": "https://localhost:8080/"
        },
        "id": "3iEvFq6ha5Dm",
        "outputId": "dcef9a06-d7da-4664-ba78-f7cd1aaf0503"
      },
      "outputs": [
        {
          "output_type": "stream",
          "name": "stdout",
          "text": [
            "9 4\n",
            "Addition: 13\n",
            "Subtraction: 5\n",
            "Multiplication: 36\n",
            "Float Division: 2.25\n",
            "Integer Division: 2\n",
            "Remainder: 1\n",
            "Power: 6561\n"
          ]
        }
      ],
      "source": [
        "# Mathematical operation\n",
        "\n",
        "x = 9\n",
        "y = 4\n",
        "\n",
        "print(x, y)\n",
        "\n",
        "print(\"Addition:\", x + y)\n",
        "\n",
        "print(\"Subtraction:\", x - y)\n",
        "\n",
        "print(\"Multiplication:\", x * y)\n",
        "\n",
        "print(\"Float Division:\", x / y)\n",
        "\n",
        "print(\"Integer Division:\", x // y) # gives quotient part before decimal\n",
        "\n",
        "print(\"Remainder:\", x % y) # % is called modulous operator\n",
        "\n",
        "print(\"Power:\", x ** y)"
      ]
    },
    {
      "cell_type": "code",
      "source": [
        "# Negative float division\n",
        "\n",
        "x = -5\n",
        "y = 2\n",
        "\n",
        "print(\"// gives floor value of division:\", x // 2) # -2.5 so floor of a negative number is -3 i.e one smaller number with no dots\n",
        "\n",
        "x = 5.0\n",
        "y = 2\n",
        "\n",
        "print(\"// with floor give float:\", x // y) # since float is there so result will be in float\n",
        "\n",
        "x = 2\n",
        "y = -2\n",
        "\n",
        "print(\"negative power:\", x ** y)"
      ],
      "metadata": {
        "colab": {
          "base_uri": "https://localhost:8080/"
        },
        "id": "FMBye_9EUUsc",
        "outputId": "7d158b97-347c-4e9e-bd97-b5899f1f9147"
      },
      "execution_count": 5,
      "outputs": [
        {
          "output_type": "stream",
          "name": "stdout",
          "text": [
            "// gives floor value of division: -3\n",
            "// with floor give float: 2.0\n",
            "negative power: 0.25\n"
          ]
        }
      ]
    },
    {
      "cell_type": "code",
      "source": [
        "# Precedence\n",
        "\n",
        "print('* has higher precedence than + so 5+2*3 :-', 5 + 2 * 3)\n",
        "\n",
        "print('power has highest precedence than *,+ so 5+3*4**2 :- ', 5 + 3 * 4 ** 2)"
      ],
      "metadata": {
        "colab": {
          "base_uri": "https://localhost:8080/"
        },
        "id": "bVT2EkeQVf06",
        "outputId": "b5f1ee6e-e78b-4c05-aa72-d8c1d6f2ba03"
      },
      "execution_count": 6,
      "outputs": [
        {
          "output_type": "stream",
          "name": "stdout",
          "text": [
            "* has higher precedence than + so 5+2*3 :- 11\n",
            "power has highest precedence than *,+ so 5+3*4**2 :-  53\n"
          ]
        }
      ]
    },
    {
      "cell_type": "code",
      "source": [
        "# Associative and bracket\n",
        "\n",
        "print('+ and - has same precedence, here associative decide evaluation, left to right for 5 + 4 - 2 :-', 5 + 4 - 2)\n",
        "\n",
        "print(' power has right to left associative, 2**2**-1 :- ', 2 ** 2 ** -1)\n",
        "\n",
        "print(' if bracket is used associative and precedence ignored ((2**2)**-1):- ', ((2 ** 2) ** -1))"
      ],
      "metadata": {
        "colab": {
          "base_uri": "https://localhost:8080/"
        },
        "id": "8M-SpQ1mWOF_",
        "outputId": "f9a14445-966a-463b-8096-8c3e32df58fa"
      },
      "execution_count": 7,
      "outputs": [
        {
          "output_type": "stream",
          "name": "stdout",
          "text": [
            "+ and - has same precedence, here associative decide evaluation, left to right for 5 + 4 - 2 :- 7\n",
            " power has right to left associative, 2**2**-1 :-  1.4142135623730951\n",
            " if bracket is used associative and precedence ignored ((2**2)**-1):-  0.25\n"
          ]
        }
      ]
    },
    {
      "cell_type": "markdown",
      "source": [
        "**Logical Operators**"
      ],
      "metadata": {
        "id": "B-8DmvhaX22J"
      }
    },
    {
      "cell_type": "code",
      "source": [
        "# And ,Or, Not\n",
        "\n",
        "a = 10\n",
        "b = 20\n",
        "c = 30\n",
        "\n",
        "print('and:- both should be true: a<b and b<c:', a < b and b < c)\n",
        "\n",
        "print('or: a<b or b>c:', a < b or b > c)\n",
        "\n",
        "print('not: a>b:',not a > b)"
      ],
      "metadata": {
        "colab": {
          "base_uri": "https://localhost:8080/"
        },
        "id": "20vDcgdPXsIc",
        "outputId": "3715040c-7b9d-43fb-d048-60e852c21057"
      },
      "execution_count": 8,
      "outputs": [
        {
          "output_type": "stream",
          "name": "stdout",
          "text": [
            "and:- both should be true: a<b and b<c: True\n",
            "or: a<b or b>c: True\n",
            "not: a>b: True\n"
          ]
        }
      ]
    },
    {
      "cell_type": "code",
      "source": [
        "# Container and bool\n",
        "\n",
        "s1 = \"\"\n",
        "\n",
        "s2 = s1 or \"defaultStr\"\n",
        "\n",
        "print(\"in case of false, default value is taken s2:\", s2)\n",
        "\n",
        "l1 = [5, 6, 7]\n",
        "\n",
        "l2 = l1 or [1, 2, 3]\n",
        "\n",
        "print(\"in case of true, default value taken l2:\", l2)"
      ],
      "metadata": {
        "colab": {
          "base_uri": "https://localhost:8080/"
        },
        "id": "YsipceRQYNBt",
        "outputId": "842202db-4390-403b-c083-9652ca3a5245"
      },
      "execution_count": 16,
      "outputs": [
        {
          "output_type": "stream",
          "name": "stdout",
          "text": [
            "in case of false, default value is taken s2: defaultStr\n",
            "in case of true, default value taken l2: [5, 6, 7]\n"
          ]
        }
      ]
    },
    {
      "cell_type": "code",
      "source": [
        "# Int value and bool\n",
        "\n",
        "x = 10\n",
        "\n",
        "print(\"x or 30:\", x or 30) # in \"or\" if 1st value is true, 2nd not considered\n",
        "\n",
        "y = 0\n",
        "\n",
        "print(\"y or 30:\", y or 30) # 1st is False\n",
        "\n",
        "z = 40\n",
        "\n",
        "print(\"z and 50:\", z and 50) # in \"and\" value till last is considered"
      ],
      "metadata": {
        "colab": {
          "base_uri": "https://localhost:8080/"
        },
        "id": "HtcvjqG3ZHsY",
        "outputId": "9a2544df-f1eb-4890-aa6b-6f11a46429a4"
      },
      "execution_count": 18,
      "outputs": [
        {
          "output_type": "stream",
          "name": "stdout",
          "text": [
            "x or 30: 10\n",
            "y or 30: 30\n",
            "z and 50: 50\n"
          ]
        }
      ]
    },
    {
      "cell_type": "markdown",
      "source": [
        "**Identity Comparison Operators**"
      ],
      "metadata": {
        "id": "tOQxrYzheEHv"
      }
    },
    {
      "cell_type": "code",
      "source": [
        "# String ,int ,float and id\n",
        "\n",
        "x = 10\n",
        "\n",
        "y = x\n",
        "\n",
        "print(\"x and y has same address:\", x is y)\n",
        "\n",
        "print(x is not y)\n",
        "\n",
        "###################################################\n",
        "\n",
        "x1 = 10\n",
        "x2 = 10\n",
        "\n",
        "y1 = 10.5\n",
        "y2 = 10.5\n",
        "\n",
        "z1 = \"himanshu\"\n",
        "z2 = \"himanshu\"\n",
        "\n",
        "print(\"x1 is x2:\",x1 is x2)     # python allocate same memory for same literal\n",
        "\n",
        "print(\"y1 is y2:\",y1 is y2)\n",
        "\n",
        "print(\"z1 is z2:\", z1 is z2)\n",
        "\n",
        "a1 = None\n",
        "a2 = None\n",
        "\n",
        "print(\"a1 is a2:\", a1 is a2) # in python, None is a special character"
      ],
      "metadata": {
        "colab": {
          "base_uri": "https://localhost:8080/"
        },
        "id": "WRxVbz5xdnF0",
        "outputId": "5375b451-3f45-46ac-8ac5-ccb5d2309b7b"
      },
      "execution_count": 22,
      "outputs": [
        {
          "output_type": "stream",
          "name": "stdout",
          "text": [
            "x and y has same address: True\n",
            "False\n",
            "x1 is x2: True\n",
            "y1 is y2: False\n",
            "z1 is z2: True\n",
            "a1 is a2: True\n"
          ]
        }
      ]
    },
    {
      "cell_type": "code",
      "source": [
        "# Container and id\n",
        "\n",
        "l1 = [10, 20, 30]\n",
        "\n",
        "l2 = [10, 20, 30]\n",
        "\n",
        "print(\"li is l2:\", l1 is l2) # value is same but is give false. but in string and int it gives true\n",
        "\n",
        "# in case of Containers like List, Tuple or if it is collections it is always False"
      ],
      "metadata": {
        "colab": {
          "base_uri": "https://localhost:8080/"
        },
        "id": "AV0nR8oaehTU",
        "outputId": "abfdb226-be7a-4d29-c864-cd0976570459"
      },
      "execution_count": 21,
      "outputs": [
        {
          "output_type": "stream",
          "name": "stdout",
          "text": [
            "li is l2: False\n"
          ]
        }
      ]
    },
    {
      "cell_type": "markdown",
      "source": [
        "**Membership Test Operators**"
      ],
      "metadata": {
        "id": "81qbV4t2guT_"
      }
    },
    {
      "cell_type": "code",
      "source": [
        "# In string\n",
        "\n",
        "s = \"himanshu\"\n",
        "\n",
        "print(\"h\" in s) # checking for \"h\" in s\n",
        "\n",
        "print(\"man\" in s) # checking for \"man\" in s\n",
        "\n",
        "print(\"hv\" in s)"
      ],
      "metadata": {
        "colab": {
          "base_uri": "https://localhost:8080/"
        },
        "id": "FUBJbCanfq0q",
        "outputId": "bb228a16-0a70-4b75-c4bc-fe08857f7fd7"
      },
      "execution_count": 1,
      "outputs": [
        {
          "output_type": "stream",
          "name": "stdout",
          "text": [
            "True\n",
            "True\n",
            "False\n"
          ]
        }
      ]
    },
    {
      "cell_type": "code",
      "source": [
        "# In Dictionary\n",
        "\n",
        "d = {10: \"abc\", 20: \"efg\"}\n",
        "\n",
        "print(10 in d) # checking key 10 in d\n",
        "\n",
        "print(15 in d) # key 15 is not in d\n",
        "\n",
        "print(\"abc\" in d) # in looks for key in dictionary, so key \"abc\" not in d"
      ],
      "metadata": {
        "colab": {
          "base_uri": "https://localhost:8080/"
        },
        "id": "dj0OXk4hI0V8",
        "outputId": "1029a792-7a09-40be-8a57-c18d20056b37"
      },
      "execution_count": 2,
      "outputs": [
        {
          "output_type": "stream",
          "name": "stdout",
          "text": [
            "True\n",
            "False\n",
            "False\n"
          ]
        }
      ]
    },
    {
      "cell_type": "code",
      "source": [
        "# In List\n",
        "\n",
        "l = [10, 20, 30 , 15]\n",
        "\n",
        "print(30 in l) # checks if 30 in list l\n",
        "\n",
        "print([20, 30] in l) # checks if [20, 30] list exists, which is not in l"
      ],
      "metadata": {
        "colab": {
          "base_uri": "https://localhost:8080/"
        },
        "id": "CCIEWY0FJkL3",
        "outputId": "ae7aea67-5c69-4fef-bc72-bdf5632fb35c"
      },
      "execution_count": 3,
      "outputs": [
        {
          "output_type": "stream",
          "name": "stdout",
          "text": [
            "True\n",
            "False\n"
          ]
        }
      ]
    },
    {
      "cell_type": "code",
      "source": [
        "# not in\n",
        "\n",
        "l = [10, 20 , 30, 15]\n",
        "\n",
        "print(30 not in l) # checks if 30 is not in l, gives not opposite of answer\n",
        "\n",
        "print(40 not in l)\n",
        "\n",
        "print([20, 30] not in l) # checks if list [20, 30] is in l"
      ],
      "metadata": {
        "colab": {
          "base_uri": "https://localhost:8080/"
        },
        "id": "0-g9K-6yKKim",
        "outputId": "f006bd77-a752-4e4b-99bb-4eb724e8bcf7"
      },
      "execution_count": 4,
      "outputs": [
        {
          "output_type": "stream",
          "name": "stdout",
          "text": [
            "False\n",
            "True\n",
            "True\n"
          ]
        }
      ]
    },
    {
      "cell_type": "markdown",
      "source": [
        "**Bitwise Operators**"
      ],
      "metadata": {
        "id": "bP83JArILGqA"
      }
    },
    {
      "cell_type": "code",
      "source": [
        "# Int to bin (binary)\n",
        "\n",
        "print(bin(18))\n",
        "\n",
        "print(bin(12))\n",
        "\n",
        "print(int(\"0b10010\", 2)) # binary to int, takes base 2 as 2 values 0, 1\n",
        "\n",
        "print(int(\"0b1100\", 2))"
      ],
      "metadata": {
        "colab": {
          "base_uri": "https://localhost:8080/"
        },
        "id": "YBb8VaCOKxUW",
        "outputId": "d0737e77-2dee-45a0-fe0e-dbcba7287f7b"
      },
      "execution_count": 6,
      "outputs": [
        {
          "output_type": "stream",
          "name": "stdout",
          "text": [
            "0b10010\n",
            "0b1100\n",
            "18\n",
            "12\n"
          ]
        }
      ]
    },
    {
      "cell_type": "code",
      "source": [
        "# bitwise and, or, xor\n",
        "\n",
        "x = 3\n",
        "y = 6\n",
        "\n",
        "# bitwise and : &\n",
        "\n",
        "print(\"bitwise and: 3 & 6:\", 3 & 6)\n",
        "\n",
        "'''\n",
        "here binary of 6 = 110\n",
        "here binary of 3 = 011\n",
        "              ---------\n",
        "           3 & 6 = 010\n",
        "\n",
        "0 means False and 1 means True\n",
        "\n",
        "So, 0 & 0 = 0\n",
        "    0 & 1 = 0\n",
        "    1 & 0 = 0\n",
        "    1 & 1 = 1\n",
        "\n",
        "Therefore, Decimal of 010 = 2\n",
        "'''\n",
        "\n",
        "# bitwise or : |\n",
        "\n",
        "print(\"bitwise or: 3 | 6:\", 3 | 6)\n",
        "\n",
        "'''\n",
        "here binary of 6 = 110\n",
        "here binary of 3 = 011\n",
        "              ---------\n",
        "           3 | 6 = 111\n",
        "\n",
        "0 means False and 1 means True\n",
        "\n",
        "So, 0 | 0 = 0\n",
        "    0 | 1 = 1\n",
        "    1 | 0 = 1\n",
        "    1 | 1 = 1\n",
        "\n",
        "Therefore, Decimal of 111 = 7\n",
        "'''\n",
        "\n",
        "# bitwise xor : ^\n",
        "\n",
        "print(\"bitwise xor: 3 ^ 6:\", 3 ^ 6)\n",
        "\n",
        "'''\n",
        "here binary of 6 = 110\n",
        "here binary of 3 = 011\n",
        "              ---------\n",
        "           3 & 6 = 101\n",
        "\n",
        "0 means False and 1 means True\n",
        "\n",
        "So, 0 ^ 0 = 0\n",
        "    0 ^ 1 = 1\n",
        "    1 ^ 0 = 1\n",
        "    1 ^ 1 = 0\n",
        "\n",
        "Therefore, Decimal of 101 = 5\n",
        "'''"
      ],
      "metadata": {
        "colab": {
          "base_uri": "https://localhost:8080/"
        },
        "id": "gFRFmS5ILoPi",
        "outputId": "b93bb8ba-238b-4273-8fc2-3ac097e82c3c"
      },
      "execution_count": 9,
      "outputs": [
        {
          "output_type": "stream",
          "name": "stdout",
          "text": [
            "bitwise and: 3 & 6: 2\n",
            "bitwise or: 3 | 6: 7\n",
            "bitwise xor: 3 ^ 6: 5\n"
          ]
        }
      ]
    },
    {
      "cell_type": "code",
      "source": [
        "\"\"\"\n",
        "Theory :\n",
        "\n",
        "- bitwise operator mainly work on Binary Representation of numbers\n",
        "\n",
        "eg: divide the integer number 18 by 2 and then you will get remainder either 0 or 1.\n",
        "divide till the quotient becomes zero\n",
        "then write the bits (0, 1) from bottom to top\n",
        "\n",
        "- To convert binary to decimal : Start from last number\n",
        "\n",
        "eg: 10010\n",
        "\n",
        "= (0*2**0)+(1*2**1)+(0*2**2)+(0*2**3)+(1*2**4)\n",
        "= 0 + 2 + 16\n",
        "= 18\n",
        "\n",
        "here we are increasing the multiplayer power from 1, 2, 3, 4\n",
        "\"\"\""
      ],
      "metadata": {
        "id": "zdHqaZ5eMeYr"
      },
      "execution_count": null,
      "outputs": []
    },
    {
      "cell_type": "code",
      "source": [
        "# Left Shift Operator\n",
        "\n",
        "x = 5\n",
        "\n",
        "# binary representation of 5 is 101\n",
        "\n",
        "print(\"left shift: 5 by 1:\", x << 1)\n",
        "\n",
        "# x << 1 = 10 (1010)\n",
        "\n",
        "# left shift means adding 0 to the left hand side\n",
        "\n",
        "# also, note shift by 1 so, 5 * (2**1) = 10\n",
        "\n",
        "print(\"left shift: 5 by 2:\", x << 2)\n",
        "\n",
        "# x << 2 = 20 (10100)\n",
        "\n",
        "# shift by 2 so, 5 * (2**2) = 20\n",
        "\n",
        "print(\"left shift: 5 by 3:\", x << 3)\n",
        "\n",
        "# x << 3 = 40 (101000)\n",
        "\n",
        "# shift by 3 so, 5 * (2**3) = 40"
      ],
      "metadata": {
        "colab": {
          "base_uri": "https://localhost:8080/"
        },
        "id": "fzy3hfFWR8wv",
        "outputId": "17303848-8ae2-4e0e-e1c5-420e0ec59060"
      },
      "execution_count": 14,
      "outputs": [
        {
          "output_type": "stream",
          "name": "stdout",
          "text": [
            "left shift: 5 by 1: 10\n",
            "left shift: 5 by 2: 20\n",
            "left shift: 5 by 3: 40\n"
          ]
        }
      ]
    },
    {
      "cell_type": "code",
      "source": [
        "# Right shift operator\n",
        "\n",
        "x = 5\n",
        "\n",
        "# binary representation of 5 is 101\n",
        "\n",
        "print(\"right shift: 5 by 1:\", x >> 1)\n",
        "\n",
        "# x >> 1 = 2 (010)\n",
        "\n",
        "# right shift means adding 0 to the right hand side. Therefore shifting to right hand side\n",
        "\n",
        "# here in right shift by 1 the last bit i.e 1 at end of 101 goes away and then 0 is added to the right hand side\n",
        "\n",
        "# right shift by 1 so, 5 / (2**1) = 2\n",
        "\n",
        "print(\"right shift: 5 by 2:\", x >> 2)\n",
        "\n",
        "# x >> 2 = 1 (001)\n",
        "\n",
        "# here in right shift the last bit i.e 0 at end of 010 goes away and then 0 is added to the right hand side\n",
        "\n",
        "# here in right shift by 2 the bit i.e 01 at end of 101 goes away and then 00 is added to the right hand side\n",
        "\n",
        "# right shift by 2 so, 5 / (2**2) = 1\n",
        "\n",
        "print(\"right shift: 5 by 3:\", x >> 3)\n",
        "\n",
        "# x >> 3 = 0 (000)\n",
        "\n",
        "# here in right shift by 3 the last bit i.e 0 at end of 010 goes away and then 0 is added to the right hand side\n",
        "\n",
        "# right shift by 3 so, 5 / (2**3) = 0"
      ],
      "metadata": {
        "colab": {
          "base_uri": "https://localhost:8080/"
        },
        "id": "evPKItzHSmz8",
        "outputId": "81abd0b8-1e77-45b4-cdd1-53a2d8ac0052"
      },
      "execution_count": 12,
      "outputs": [
        {
          "output_type": "stream",
          "name": "stdout",
          "text": [
            "right shift: 5 by 1: 2\n",
            "right shift: 5 by 2: 1\n",
            "right shift: 5 by 3: 0\n"
          ]
        }
      ]
    },
    {
      "cell_type": "code",
      "source": [
        "# bitwise not operator\n",
        "\n",
        "x = 5\n",
        "\n",
        "# binary representation of 5 is 101\n",
        "\n",
        "# bitwise not operator toggles every bit means 101 will become 010 , 0 will become 1 and 1 will become 0\n",
        "\n",
        "# if the leading bit is 0 then it means it is a positive number\n",
        "\n",
        "# if the leading bit is 1 then it means it is a negative number.\n",
        "\n",
        "# 1 byte = 8 bits\n",
        "\n",
        "# 5 = 101 -> 3 bits\n",
        "# and it can be written in the form of bytes as 00000101\n",
        "# negation of 00000101 is 11111010 , as starting from 1 therefore negative number\n",
        "\n",
        "# negative numbers are stored in two's complement form. it is different from decimal to binary and binary to decimal\n",
        "\n",
        "print(\"bitwise not : ~5 :\", ~x) # bitwise not ~"
      ],
      "metadata": {
        "colab": {
          "base_uri": "https://localhost:8080/"
        },
        "id": "hep4Q0UwS6S5",
        "outputId": "053af893-962c-4b85-d5d1-f2247a11c0b5"
      },
      "execution_count": 15,
      "outputs": [
        {
          "output_type": "stream",
          "name": "stdout",
          "text": [
            "bitwise not : ~5 : -6\n"
          ]
        }
      ]
    },
    {
      "cell_type": "code",
      "source": [],
      "metadata": {
        "id": "gObM1ffnTXyh"
      },
      "execution_count": null,
      "outputs": []
    }
  ]
}