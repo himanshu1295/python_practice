{
 "cells": [
  {
   "cell_type": "markdown",
   "metadata": {},
   "source": [
    "**Loops in Python:**"
   ]
  },
  {
   "cell_type": "code",
   "execution_count": 1,
   "metadata": {},
   "outputs": [],
   "source": [
    "# Loops in python are used to :\n",
    "# 1. Doing some work repeatedly.\n",
    "# 2. Transversing / iterating through collections like list, tuples, sets, etc.\n",
    "# 3. running services in system.\n",
    "\n",
    "# note ':' colon is used to create block in python"
   ]
  },
  {
   "cell_type": "markdown",
   "metadata": {},
   "source": [
    "**While Loops in Python:**"
   ]
  },
  {
   "cell_type": "code",
   "execution_count": 2,
   "metadata": {},
   "outputs": [],
   "source": [
    "# Syntax is :\n",
    "\n",
    "# while condition_test:   \n",
    "#       statement 1\n",
    "#       statement 2\n",
    "#       .."
   ]
  },
  {
   "cell_type": "code",
   "execution_count": 3,
   "metadata": {},
   "outputs": [
    {
     "name": "stdout",
     "output_type": "stream",
     "text": [
      "Himanshu\n",
      "Himanshu\n",
      "Himanshu\n",
      "Himanshu\n",
      "Himanshu\n"
     ]
    }
   ],
   "source": [
    "# write a program using while loop to print \"Himanshu\" 5 times\n",
    "\n",
    "counter = 0\n",
    "\n",
    "while counter < 5: # loop 0,1,2,3,4\n",
    "    print(\"Himanshu\")\n",
    "    counter += 1"
   ]
  },
  {
   "cell_type": "code",
   "execution_count": 4,
   "metadata": {},
   "outputs": [
    {
     "name": "stdout",
     "output_type": "stream",
     "text": [
      "welcome\n",
      "welcome\n",
      "welcome\n"
     ]
    }
   ],
   "source": [
    "counter = 0\n",
    "\n",
    "while counter < 5:\n",
    "    print(\"welcome\")\n",
    "    counter += 2       # loop will print 3 times i.e 0, 2, 4\n"
   ]
  },
  {
   "cell_type": "code",
   "execution_count": 5,
   "metadata": {},
   "outputs": [],
   "source": [
    "# to print an infinite loop\n",
    "# while True:\n",
    "#      print(Himanshu)"
   ]
  },
  {
   "cell_type": "code",
   "execution_count": 6,
   "metadata": {},
   "outputs": [
    {
     "name": "stdout",
     "output_type": "stream",
     "text": [
      "Number entered:  5\n",
      "Hello World\n",
      "Hello World\n",
      "Hello World\n",
      "Hello World\n",
      "Hello World\n",
      "\n",
      "Hello World\n",
      "Hello World\n",
      "Hello World\n",
      "Hello World\n",
      "Hello World\n"
     ]
    }
   ],
   "source": [
    "# Print \"Hello World\" 'n' number of times using while loop\n",
    "\n",
    "n = int(input(\"Enter a number: \"))\n",
    "\n",
    "print(\"Number entered: \", n)\n",
    "\n",
    "count = 0\n",
    "\n",
    "while count < n:\n",
    "    print(\"Hello World\")\n",
    "    count += 1\n",
    "\n",
    "# you can also print using the below program\n",
    "print()\n",
    "\n",
    "while n > 0:             # loop starts from 5,4,3,2,1\n",
    "    print(\"Hello World\")\n",
    "    n -= 1"
   ]
  },
  {
   "cell_type": "markdown",
   "metadata": {},
   "source": [
    "**Range() function in Python**"
   ]
  },
  {
   "cell_type": "code",
   "execution_count": 13,
   "metadata": {},
   "outputs": [
    {
     "name": "stdout",
     "output_type": "stream",
     "text": [
      "range(0, 5)\n",
      "\n",
      "[0, 1, 2, 3, 4]\n"
     ]
    }
   ],
   "source": [
    "# range and list in python\n",
    "\n",
    "r = range(5) # n - 1 therefore 5 - 1 = 4 \n",
    "\n",
    "# it will stop at 5 but will not print 5\n",
    "\n",
    "print(r)\n",
    "\n",
    "print()\n",
    "\n",
    "# range to list\n",
    "\n",
    "l = list(r)\n",
    "\n",
    "print(l)\n",
    "\n"
   ]
  },
  {
   "cell_type": "code",
   "execution_count": 14,
   "metadata": {},
   "outputs": [
    {
     "name": "stdout",
     "output_type": "stream",
     "text": [
      "range(10, 20)\n",
      "\n",
      "[10, 11, 12, 13, 14, 15, 16, 17, 18, 19]\n",
      "\n",
      "range(-2, 2)\n",
      "\n",
      "[-2, -1, 0, 1]\n"
     ]
    }
   ],
   "source": [
    "# Range with two parameter\n",
    "\n",
    "r = range(10, 20) # 20 - 1 = 19 ... it will start from 10 and then iterate through the range until 19 which is n - 1\n",
    "\n",
    "# it will start at 10 and then stop at 20\n",
    "\n",
    "print(r)\n",
    "\n",
    "print()\n",
    "\n",
    "l = list(r)\n",
    "\n",
    "print(l)\n",
    "\n",
    "print()\n",
    "\n",
    "##############\n",
    "\n",
    "r = range(-2, 2)\n",
    "\n",
    "print(r)\n",
    "\n",
    "print()\n",
    "\n",
    "l = list(r)\n",
    "\n",
    "print(l)\n"
   ]
  },
  {
   "cell_type": "code",
   "execution_count": 15,
   "metadata": {},
   "outputs": [
    {
     "name": "stdout",
     "output_type": "stream",
     "text": [
      "range(10, 20, 2)\n",
      "\n",
      "[10, 12, 14, 16, 18]\n"
     ]
    }
   ],
   "source": [
    "# Range with three Parameter\n",
    "\n",
    "r = range(10, 20, 2) # start from 10 and will go till 19 which is n - 1 and third parameter 2, it will increment by 2\n",
    "\n",
    "print(r)\n",
    "\n",
    "print()\n",
    "\n",
    "l = list(r)\n",
    "\n",
    "print(l)"
   ]
  },
  {
   "cell_type": "code",
   "execution_count": 18,
   "metadata": {},
   "outputs": [
    {
     "name": "stdout",
     "output_type": "stream",
     "text": [
      "range(20, 10, -2)\n",
      "\n",
      "[20, 18, 16, 14, 12]\n",
      "\n",
      "range(20, 10, -3)\n",
      "\n",
      "[20, 17, 14, 11]\n",
      "\n"
     ]
    }
   ],
   "source": [
    "# Negative step\n",
    "\n",
    "r = range(20, 10, -2)  # range with start and stop, and step\n",
    "\n",
    "# it will stop at 10.. it has range from 20 to 11\n",
    "\n",
    "print(r)\n",
    "\n",
    "print()\n",
    "\n",
    "l = list(r)\n",
    "\n",
    "print(l)\n",
    "\n",
    "print()\n",
    "\n",
    "#############\n",
    "\n",
    "r = range(20, 10, -3) # in negative step, it will stop at 10 as range is till 20 to 11\n",
    "\n",
    "print(r)\n",
    "\n",
    "print()\n",
    "\n",
    "l = list(r)\n",
    "\n",
    "print(l)\n",
    "\n",
    "print()"
   ]
  },
  {
   "cell_type": "code",
   "execution_count": 21,
   "metadata": {},
   "outputs": [
    {
     "name": "stdout",
     "output_type": "stream",
     "text": [
      "<class 'range'>\n"
     ]
    }
   ],
   "source": [
    "print(type(r)) # range class is also considered as sequence type"
   ]
  },
  {
   "cell_type": "markdown",
   "metadata": {},
   "source": [
    "**For Loop in Python**"
   ]
  },
  {
   "cell_type": "code",
   "execution_count": 24,
   "metadata": {},
   "outputs": [
    {
     "name": "stdout",
     "output_type": "stream",
     "text": [
      "10\n",
      "20\n",
      "30\n",
      "40\n",
      "\n",
      "H\n",
      "e\n",
      "l\n",
      "l\n",
      "o\n"
     ]
    }
   ],
   "source": [
    "# In list and str\n",
    "\n",
    "l = [10, 20, 30, 40]\n",
    "\n",
    "for x in l:\n",
    "    print(x)\n",
    "\n",
    "print()\n",
    "\n",
    "s = 'Hello'\n",
    "\n",
    "for x in s:\n",
    "    print(x)\n"
   ]
  },
  {
   "cell_type": "code",
   "execution_count": 25,
   "metadata": {},
   "outputs": [
    {
     "name": "stdout",
     "output_type": "stream",
     "text": [
      "0\n",
      "1\n",
      "2\n",
      "3\n",
      "4\n"
     ]
    }
   ],
   "source": [
    "# Range and for\n",
    "\n",
    "for x  in range(5):\n",
    "    print(x)"
   ]
  },
  {
   "cell_type": "code",
   "execution_count": 26,
   "metadata": {},
   "outputs": [
    {
     "name": "stdout",
     "output_type": "stream",
     "text": [
      "0\n",
      "6\n",
      "12\n",
      "18\n"
     ]
    }
   ],
   "source": [
    "# to check if number divisible by 6\n",
    "\n",
    "for x in range(20):  # 0 / 6 = 0 \n",
    "    if x % 6 == 0:\n",
    "        print(x)"
   ]
  },
  {
   "cell_type": "code",
   "execution_count": 27,
   "metadata": {},
   "outputs": [
    {
     "name": "stdout",
     "output_type": "stream",
     "text": [
      "10\n",
      "20\n",
      "30\n",
      "40\n",
      "\n",
      "0 10\n",
      "1 20\n",
      "2 30\n",
      "3 40\n"
     ]
    }
   ],
   "source": [
    "# using For loop in List and printing index and value\n",
    "\n",
    "l = [10, 20, 30 , 40]\n",
    "\n",
    "for i in range(len(l)):         # same as => for x in l: print(x)\n",
    "    print(l[i])               \n",
    "\n",
    "print()                   # l[i] means indexing. l[0] = 10\n",
    "\n",
    "for i in range(len(l)):\n",
    "    print(i, l[i])"
   ]
  },
  {
   "cell_type": "markdown",
   "metadata": {},
   "source": [
    "**Break In Python**"
   ]
  },
  {
   "cell_type": "code",
   "execution_count": 32,
   "metadata": {},
   "outputs": [
    {
     "name": "stdout",
     "output_type": "stream",
     "text": [
      "Number entered:  9\n",
      "Smallest Divisor: 3\n",
      "\n",
      "Smallest Divisor: 3\n"
     ]
    }
   ],
   "source": [
    "# To find the Smallest Divisor using For Loop\n",
    "\n",
    "n = int(input(\"Enter a Number: \"))\n",
    "\n",
    "print(\"Number entered: \", n)\n",
    "\n",
    "for i in range(2, n + 1):   # n + 1 because if n = prime no. then how we will print it. therefore n + 1\n",
    "    if n % i == 0:          # range starts from 2 and not from 0 otherwise will result in zero division error\n",
    "        print(\"Smallest Divisor:\", i)\n",
    "        break\n",
    "\n",
    "# To find the Smallest Divisor using While Loop\n",
    "print()\n",
    "\n",
    "count = 2   #counter value = 2, cannot be set to 0 otherwise will result in zero division error\n",
    "\n",
    "while count <= n:\n",
    "    if n % count == 0:\n",
    "        print(\"Smallest Divisor:\", count)\n",
    "        break\n",
    "    count += 1\n"
   ]
  },
  {
   "cell_type": "code",
   "execution_count": 33,
   "metadata": {},
   "outputs": [
    {
     "name": "stdout",
     "output_type": "stream",
     "text": [
      "1\n",
      "2\n",
      "3\n"
     ]
    }
   ],
   "source": [
    "# Guess the Output :\n",
    "\n",
    "i = 1\n",
    "\n",
    "while i <= 5:\n",
    "    if i == 3:\n",
    "        break\n",
    "    print(i)\n",
    "    i += 1\n",
    "\n",
    "print(i)\n",
    "\n"
   ]
  },
  {
   "cell_type": "markdown",
   "metadata": {},
   "source": [
    "**Continue In Python**"
   ]
  },
  {
   "cell_type": "code",
   "execution_count": 34,
   "metadata": {},
   "outputs": [
    {
     "name": "stdout",
     "output_type": "stream",
     "text": [
      "16\n",
      "17\n",
      "18\n",
      "19\n",
      "\n",
      "16\n",
      "17\n",
      "18\n",
      "19\n"
     ]
    }
   ],
   "source": [
    "# Only print numbers which are not multiple \n",
    "\n",
    "l = [10,16,17,18,19,15]\n",
    "\n",
    "for x in l:\n",
    "    if x % 5 == 0:  # if multiple of 5 then continue\n",
    "        continue    # continue skips the number; don't execute the lines after continue and then go to the next iteration.\n",
    "    print(x)\n",
    "\n",
    "print()\n",
    "\n",
    "for x in l:\n",
    "    if x % 5 != 0:  # same as above but different\n",
    "        print(x)\n"
   ]
  },
  {
   "cell_type": "code",
   "execution_count": 40,
   "metadata": {},
   "outputs": [
    {
     "name": "stdout",
     "output_type": "stream",
     "text": [
      "0 square is : 0\n",
      "1 square is : 1\n",
      "2 square is : 4\n",
      "4 square is : 16\n",
      "5 square is : 25\n",
      "\n",
      "Now incremented value of i : 6\n"
     ]
    }
   ],
   "source": [
    "# print square of a given number leaving square of number 3\n",
    "\n",
    "i = 0\n",
    "\n",
    "while i <= 5:\n",
    "    if (i == 3):\n",
    "        i+=1\n",
    "        continue\n",
    "    print(i, \"square is :\", i*i)\n",
    "    i += 1\n",
    "\n",
    "print()\n",
    "\n",
    "print(\"Now incremented value of i :\", i)"
   ]
  },
  {
   "cell_type": "code",
   "execution_count": 41,
   "metadata": {},
   "outputs": [
    {
     "name": "stdout",
     "output_type": "stream",
     "text": [
      "0 Square : 0\n",
      "1 Square : 1\n",
      "2 Square : 4\n",
      "3 Square : 9\n",
      "4 Square : 16\n"
     ]
    }
   ],
   "source": [
    "# print square of a number using For Loop:\n",
    "\n",
    "for i in range(5):\n",
    "    print(i, \"Square :\", i*i)\n"
   ]
  },
  {
   "cell_type": "code",
   "execution_count": 42,
   "metadata": {},
   "outputs": [
    {
     "name": "stdout",
     "output_type": "stream",
     "text": [
      "16\n",
      "17\n",
      "18\n",
      "9\n",
      "13\n",
      "Bye\n"
     ]
    }
   ],
   "source": [
    "# Guess the Output of the following program:\n",
    "\n",
    "l = [10, 16, 17, 18, 9, 15,21,13]\n",
    "\n",
    "for x in l:\n",
    "    if x % 5 == 0:\n",
    "        continue\n",
    "    \n",
    "    if x%7==0:\n",
    "        continue\n",
    "        \n",
    "    print(x)\n",
    "\n",
    "print(\"Bye\")"
   ]
  },
  {
   "cell_type": "markdown",
   "metadata": {},
   "source": [
    "**Nested Loop in Python**"
   ]
  },
  {
   "cell_type": "code",
   "execution_count": 47,
   "metadata": {},
   "outputs": [
    {
     "name": "stdout",
     "output_type": "stream",
     "text": [
      "1 2 3 4 5 6 7 8 9 10 \n",
      "2 4 6 8 10 12 14 16 18 20 \n",
      "3 6 9 12 15 18 21 24 27 30 \n",
      "4 8 12 16 20 24 28 32 36 40 \n",
      "5 10 15 20 25 30 35 40 45 50 \n",
      "6 12 18 24 30 36 42 48 54 60 \n",
      "7 14 21 28 35 42 49 56 63 70 \n",
      "8 16 24 32 40 48 56 64 72 80 \n",
      "9 18 27 36 45 54 63 72 81 90 \n",
      "10 20 30 40 50 60 70 80 90 100 \n"
     ]
    }
   ],
   "source": [
    "# write a program to print Table from 1 to 10 using Nested For loop\n",
    "\n",
    "for i in range(1, 11):                  # will print vertical numbers from 1 to 10\n",
    "    for j in range(i, i * 10 + 1, i):   # will print horizontal numbers\n",
    "        print(j, end = \" \")\n",
    "    print()"
   ]
  },
  {
   "cell_type": "code",
   "execution_count": 48,
   "metadata": {},
   "outputs": [
    {
     "name": "stdout",
     "output_type": "stream",
     "text": [
      "1 1\n",
      "1 2\n",
      "Next\n",
      "2 1\n",
      "2 2\n",
      "Next\n"
     ]
    }
   ],
   "source": [
    "# Guess the Output of the following Nested Loop program:\n",
    "\n",
    "# we can have For Loop inside While Loop and vice versa\n",
    "\n",
    "for i in range(1,3):\n",
    "    \n",
    "    j=1\n",
    "    while j<3:\n",
    "        print(i,j)    \n",
    "        j=j+1\n",
    "    print(\"Next\")"
   ]
  },
  {
   "cell_type": "code",
   "execution_count": 49,
   "metadata": {},
   "outputs": [
    {
     "name": "stdout",
     "output_type": "stream",
     "text": [
      "10 20 30 \n",
      "40 50 60 \n",
      "70 80 \n"
     ]
    }
   ],
   "source": [
    "# List of list\n",
    "\n",
    "ll = [[10,20,30],[40,50,60],[70,80]]   # list inside another list\n",
    "\n",
    "for l in ll:                  # 3 small lists\n",
    "    for x in l:               # printing the inside contents of 1 list at a time, \n",
    "        print(x, end = \" \")\n",
    "    print()                   # new line prints when the 2nd loop is printed completely, and then the first for loop starts again\n",
    "\n",
    "\n",
    "# we can also have set of set and set of list collections as well in nested loops"
   ]
  },
  {
   "cell_type": "code",
   "execution_count": null,
   "metadata": {},
   "outputs": [],
   "source": []
  }
 ],
 "metadata": {
  "kernelspec": {
   "display_name": "base",
   "language": "python",
   "name": "python3"
  },
  "language_info": {
   "codemirror_mode": {
    "name": "ipython",
    "version": 3
   },
   "file_extension": ".py",
   "mimetype": "text/x-python",
   "name": "python",
   "nbconvert_exporter": "python",
   "pygments_lexer": "ipython3",
   "version": "3.10.9"
  }
 },
 "nbformat": 4,
 "nbformat_minor": 2
}
