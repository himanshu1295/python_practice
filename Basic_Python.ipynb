{
  "nbformat": 4,
  "nbformat_minor": 0,
  "metadata": {
    "colab": {
      "provenance": []
    },
    "kernelspec": {
      "name": "python3",
      "display_name": "Python 3"
    },
    "language_info": {
      "name": "python"
    }
  },
  "cells": [
    {
      "cell_type": "markdown",
      "source": [
        "**Python Introduction:**"
      ],
      "metadata": {
        "id": "e2cO-a6Gl19b"
      }
    },
    {
      "cell_type": "markdown",
      "source": [
        "**print() function**"
      ],
      "metadata": {
        "id": "aZ-bdjZiutRk"
      }
    },
    {
      "cell_type": "code",
      "source": [
        "print(\"Hello World !\") # multiple word, but single string seperated by space"
      ],
      "metadata": {
        "colab": {
          "base_uri": "https://localhost:8080/"
        },
        "id": "LvEIzoC8mC_j",
        "outputId": "91e5831e-defc-4de6-f7ea-e3c0edab1bbb"
      },
      "execution_count": 25,
      "outputs": [
        {
          "output_type": "stream",
          "name": "stdout",
          "text": [
            "Hello World !\n"
          ]
        }
      ]
    },
    {
      "cell_type": "code",
      "source": [
        "print(\"Hello\", \"World\" ) # multiple string seperated by space"
      ],
      "metadata": {
        "colab": {
          "base_uri": "https://localhost:8080/"
        },
        "id": "zg-BusWLmQYZ",
        "outputId": "3d8cb83a-1640-48fe-d3d8-14749cc42f5e"
      },
      "execution_count": 26,
      "outputs": [
        {
          "output_type": "stream",
          "name": "stdout",
          "text": [
            "Hello World\n"
          ]
        }
      ]
    },
    {
      "cell_type": "code",
      "source": [
        "print(\"Hello\")\n",
        "print() # printing new line\n",
        "print(\"Himanshu\")"
      ],
      "metadata": {
        "colab": {
          "base_uri": "https://localhost:8080/"
        },
        "id": "-puCPY8dnGJQ",
        "outputId": "9e487b1b-d79b-481c-ed55-57de8cc44921"
      },
      "execution_count": 27,
      "outputs": [
        {
          "output_type": "stream",
          "name": "stdout",
          "text": [
            "Hello\n",
            "\n",
            "Himanshu\n"
          ]
        }
      ]
    },
    {
      "cell_type": "markdown",
      "source": [
        "**Using \"end\" and \"sep\" in print**"
      ],
      "metadata": {
        "id": "MupwA0CxnsSM"
      }
    },
    {
      "cell_type": "code",
      "source": [
        "print(\"Welcome to\", end = \" \") # line will end with \" \", so no new line\n",
        "print(\"Our Home\") # end is not given,by default new line"
      ],
      "metadata": {
        "colab": {
          "base_uri": "https://localhost:8080/"
        },
        "id": "MMfwDutLnM38",
        "outputId": "a859388f-917c-4a05-b06f-edce5f60119a"
      },
      "execution_count": 28,
      "outputs": [
        {
          "output_type": "stream",
          "name": "stdout",
          "text": [
            "Welcome to Our Home\n"
          ]
        }
      ]
    },
    {
      "cell_type": "code",
      "source": [
        "print(\"17\", \"October\", \"2023\", sep = \"-\")"
      ],
      "metadata": {
        "colab": {
          "base_uri": "https://localhost:8080/"
        },
        "id": "_WzfHijuoOd5",
        "outputId": "dfdcf703-8c54-469e-f7ca-75695b1b3a91"
      },
      "execution_count": 29,
      "outputs": [
        {
          "output_type": "stream",
          "name": "stdout",
          "text": [
            "17-October-2023\n"
          ]
        }
      ]
    },
    {
      "cell_type": "code",
      "source": [
        "print(10, 20, 30, sep=\"+\", end=\" \")\n",
        "print(50, 60)"
      ],
      "metadata": {
        "colab": {
          "base_uri": "https://localhost:8080/"
        },
        "id": "o2hpRzOcogt2",
        "outputId": "a8fb3d0f-1fb3-44b3-e94f-285af3646a7f"
      },
      "execution_count": 30,
      "outputs": [
        {
          "output_type": "stream",
          "name": "stdout",
          "text": [
            "10+20+30 50 60\n"
          ]
        }
      ]
    },
    {
      "cell_type": "markdown",
      "source": [
        "**Variables in Python**"
      ],
      "metadata": {
        "id": "VCq-hCUNqKbQ"
      }
    },
    {
      "cell_type": "code",
      "source": [
        "age = 27 # int data type and \"age\" here is variable\n",
        "name = \"Himanshu\" # string data type\n",
        "weight = 84.23 # float data type\n",
        "\n",
        "print(age) # printing variables\n",
        "print(name)\n",
        "print(weight)"
      ],
      "metadata": {
        "colab": {
          "base_uri": "https://localhost:8080/"
        },
        "id": "dxTsOHa7pc3r",
        "outputId": "ed076883-b8d8-44a9-e71c-18a854395518"
      },
      "execution_count": 31,
      "outputs": [
        {
          "output_type": "stream",
          "name": "stdout",
          "text": [
            "27\n",
            "Himanshu\n",
            "84.23\n"
          ]
        }
      ]
    },
    {
      "cell_type": "code",
      "source": [
        "price = 100\n",
        "tax = 18\n",
        "\n",
        "total_price = price + tax # adding the int data type\n",
        "\n",
        "print(total_price)"
      ],
      "metadata": {
        "colab": {
          "base_uri": "https://localhost:8080/"
        },
        "id": "YYjcf7oxrNWx",
        "outputId": "68a3c3ec-8a87-41d1-add6-c347455e4577"
      },
      "execution_count": 32,
      "outputs": [
        {
          "output_type": "stream",
          "name": "stdout",
          "text": [
            "118\n"
          ]
        }
      ]
    },
    {
      "cell_type": "code",
      "source": [
        "x = 10 # inital value of x\n",
        "print(x)\n",
        "\n",
        "x = \"ABC\" # updating the value of x\n",
        "print(x) # printing the updated value"
      ],
      "metadata": {
        "colab": {
          "base_uri": "https://localhost:8080/"
        },
        "id": "qCREqv1Xr2q8",
        "outputId": "f492eba6-fe8e-4e35-ed7c-d8c18e4d6804"
      },
      "execution_count": 33,
      "outputs": [
        {
          "output_type": "stream",
          "name": "stdout",
          "text": [
            "10\n",
            "ABC\n"
          ]
        }
      ]
    },
    {
      "cell_type": "code",
      "source": [
        "is_valid = True # boolean data type. Always starts with Capital letter\n",
        "marks = 90\n",
        "pi = 3.14\n",
        "city_name = \"Delhi\"\n",
        "\n",
        "print(is_valid)\n",
        "print(marks)\n",
        "print(pi)\n",
        "print(city_name)"
      ],
      "metadata": {
        "colab": {
          "base_uri": "https://localhost:8080/"
        },
        "id": "6nTatX7asgXV",
        "outputId": "8c908fce-d8c2-40ef-9c19-df0422b1c2a1"
      },
      "execution_count": 34,
      "outputs": [
        {
          "output_type": "stream",
          "name": "stdout",
          "text": [
            "True\n",
            "90\n",
            "3.14\n",
            "Delhi\n"
          ]
        }
      ]
    },
    {
      "cell_type": "markdown",
      "source": [
        "**input() function**"
      ],
      "metadata": {
        "id": "hyOv73m7vMO-"
      }
    },
    {
      "cell_type": "code",
      "source": [
        "name = input(\"Enter your Name: \")\n",
        "age = input(\"Enter your Age: \")\n",
        "\n",
        "print()\n",
        "\n",
        "print(\"Welcome \" + name) # using concatenation i.e \"+\" to add different strings\n",
        "print(\"Your age is: \" + age)\n"
      ],
      "metadata": {
        "colab": {
          "base_uri": "https://localhost:8080/"
        },
        "id": "zz5pciuIvLeM",
        "outputId": "26658890-8972-4a94-e041-7edf90b11fda"
      },
      "execution_count": 35,
      "outputs": [
        {
          "output_type": "stream",
          "name": "stdout",
          "text": [
            "Enter your Name: Himanshu\n",
            "Enter your Age: 27\n",
            "\n",
            "Welcome Himanshu\n",
            "Your age is: 27\n"
          ]
        }
      ]
    },
    {
      "cell_type": "code",
      "source": [
        "# Writing a program to find Sum of Two Numbers\n",
        "\n",
        "# Method 1:\n",
        "\n",
        "x = input(\"Enter the First Number: \") # input always string data type\n",
        "y = input(\"Enter the Second Number: \")\n",
        "\n",
        "x = int(x) # converting str to int data type\n",
        "y = int(y)\n",
        "\n",
        "result = x + y\n",
        "\n",
        "print(\"Sum is: \", result)\n",
        "\n",
        "print()\n",
        "\n",
        "# other way to print is using format function\n",
        "\n",
        "print(\"Sum of {} and {} is: {}\".format(x, y, result))"
      ],
      "metadata": {
        "colab": {
          "base_uri": "https://localhost:8080/"
        },
        "id": "Gg4lOHkCwMXb",
        "outputId": "43f06db2-b773-4666-ae66-e60d1522f9a6"
      },
      "execution_count": 36,
      "outputs": [
        {
          "output_type": "stream",
          "name": "stdout",
          "text": [
            "Enter the First Number: 20\n",
            "Enter the Second Number: 30\n",
            "Sum is:  50\n",
            "\n",
            "Sum of 20 and 30 is: 50\n"
          ]
        }
      ]
    },
    {
      "cell_type": "code",
      "source": [
        "# Method 2:\n",
        "\n",
        "x = int(input(\"Enter the First Number: \"))\n",
        "y= int(input(\"Enter the Second Number: \"))\n",
        "\n",
        "res = x + y # res is int data type\n",
        "\n",
        "print(\"Sum is: \", res) # using , to print different data type together\n"
      ],
      "metadata": {
        "colab": {
          "base_uri": "https://localhost:8080/"
        },
        "id": "Eg_hReeGyIH_",
        "outputId": "6eeab365-1243-4f36-d74d-4717c0499516"
      },
      "execution_count": 37,
      "outputs": [
        {
          "output_type": "stream",
          "name": "stdout",
          "text": [
            "Enter the First Number: 20\n",
            "Enter the Second Number: 30\n",
            "Sum is:  50\n"
          ]
        }
      ]
    },
    {
      "cell_type": "code",
      "source": [
        "# Method 3:\n",
        "\n",
        "x = int(input())\n",
        "y= int(input())\n",
        "\n",
        "res = x + y\n",
        "\n",
        "print(\"Sum is: \", res)"
      ],
      "metadata": {
        "colab": {
          "base_uri": "https://localhost:8080/"
        },
        "id": "8_wTSRV60GJd",
        "outputId": "ae347e9a-9929-4714-8a0a-f026ff42a159"
      },
      "execution_count": 38,
      "outputs": [
        {
          "output_type": "stream",
          "name": "stdout",
          "text": [
            "12\n",
            "12\n",
            "Sum is:  24\n"
          ]
        }
      ]
    },
    {
      "cell_type": "markdown",
      "source": [
        "**type() function**"
      ],
      "metadata": {
        "id": "kZ03gocV0oeB"
      }
    },
    {
      "cell_type": "code",
      "source": [
        "name = \"ABC\"\n",
        "age = 27\n",
        "weight = 84.25\n",
        "is_honest = True\n",
        "complex_num = 2 + 4j # in python complex number using \"j\" instead of \"i\"\n",
        "\n",
        "print(type(name))\n",
        "print(type(age))\n",
        "print(type(weight))\n",
        "print(type(is_honest))\n",
        "print(type(complex_num))"
      ],
      "metadata": {
        "colab": {
          "base_uri": "https://localhost:8080/"
        },
        "id": "F1AWqhsZ0Yf9",
        "outputId": "570b68f6-4f76-410d-d09c-f7de3ec0896b"
      },
      "execution_count": 39,
      "outputs": [
        {
          "output_type": "stream",
          "name": "stdout",
          "text": [
            "<class 'str'>\n",
            "<class 'int'>\n",
            "<class 'float'>\n",
            "<class 'bool'>\n",
            "<class 'complex'>\n"
          ]
        }
      ]
    },
    {
      "cell_type": "code",
      "source": [
        "# checking the class of Sequence Type\n",
        "\n",
        "a = \"Home\" # string\n",
        "\n",
        "l = [10, \"abe\", 15.6, False] # list\n",
        "\n",
        "t = (1, \"abc\", 15.6, True) # tuple\n",
        "\n",
        "s = {20, \"def\", 34.7, False} # set\n",
        "\n",
        "d = {10:\"Food\", \"ABC\":\"56\", \"Check\":True} # dictionary\n",
        "\n",
        "print(type(a))\n",
        "print(type(l))\n",
        "print(type(t))\n",
        "print(type(s))\n",
        "print(type(d))"
      ],
      "metadata": {
        "colab": {
          "base_uri": "https://localhost:8080/"
        },
        "id": "FObF-tAm1r4f",
        "outputId": "8f308899-3a31-4caf-d2b7-deb49abbb265"
      },
      "execution_count": 40,
      "outputs": [
        {
          "output_type": "stream",
          "name": "stdout",
          "text": [
            "<class 'str'>\n",
            "<class 'list'>\n",
            "<class 'tuple'>\n",
            "<class 'set'>\n",
            "<class 'dict'>\n"
          ]
        }
      ]
    },
    {
      "cell_type": "markdown",
      "source": [
        "**Type Conversion**"
      ],
      "metadata": {
        "id": "W-iY7idr3Yls"
      }
    },
    {
      "cell_type": "code",
      "source": [
        "# Implicit type conversion\n",
        "\n",
        "a = 10 # int\n",
        "b = 1.5 # float\n",
        "c = a + b # here automatically \"a\" will change to float\n",
        "\n",
        "print(c)\n",
        "print(type(c))\n",
        "\n",
        "print()\n",
        "\n",
        "d = True\n",
        "\n",
        "e = a + d # in python bool converts to 0 or 1\n",
        "print(e)\n",
        "\n",
        "# True = 1 and False = 0 in python"
      ],
      "metadata": {
        "colab": {
          "base_uri": "https://localhost:8080/"
        },
        "id": "cmGMgGJI3NwI",
        "outputId": "fd13bd9f-11a5-4320-cd32-04d8633fb542"
      },
      "execution_count": 41,
      "outputs": [
        {
          "output_type": "stream",
          "name": "stdout",
          "text": [
            "11.5\n",
            "<class 'float'>\n",
            "\n",
            "11\n"
          ]
        }
      ]
    },
    {
      "cell_type": "code",
      "source": [
        "# explicit type conversion\n",
        "\n",
        "s = '135' # string type\n",
        "\n",
        "i = 10 + int(s)  # str to int conversion\n",
        "\n",
        "f = float(s)  # str to float conversion\n",
        "\n",
        "print(i)\n",
        "print(f)"
      ],
      "metadata": {
        "colab": {
          "base_uri": "https://localhost:8080/"
        },
        "id": "xBiTT-OZ4BpF",
        "outputId": "b74c275c-1bf7-43a4-80a9-f8795f9156f1"
      },
      "execution_count": 42,
      "outputs": [
        {
          "output_type": "stream",
          "name": "stdout",
          "text": [
            "145\n",
            "135.0\n"
          ]
        }
      ]
    },
    {
      "cell_type": "code",
      "source": [
        "# explicit type conversion\n",
        "\n",
        "s = \"himanshu\"\n",
        "\n",
        "print(\"string to list: \", list(s)) # changing string to list\n",
        "\n",
        "print(\"string to tuple: \", tuple(s)) # changing string to tuple\n",
        "\n",
        "print(\"string to set: \", set(s)) # changing string to set\n",
        "\n",
        "# set is always unordered and does not contain duplicate values"
      ],
      "metadata": {
        "colab": {
          "base_uri": "https://localhost:8080/"
        },
        "id": "a9dq_lxz5Lj8",
        "outputId": "571d9e81-b51c-4175-918e-f952d6760907"
      },
      "execution_count": 43,
      "outputs": [
        {
          "output_type": "stream",
          "name": "stdout",
          "text": [
            "string to list:  ['h', 'i', 'm', 'a', 'n', 's', 'h', 'u']\n",
            "string to tuple:  ('h', 'i', 'm', 'a', 'n', 's', 'h', 'u')\n",
            "string to set:  {'n', 'h', 's', 'u', 'i', 'a', 'm'}\n"
          ]
        }
      ]
    },
    {
      "cell_type": "code",
      "source": [
        "# converting list, int and float to string\n",
        "\n",
        "l = ['a', 'b', 'c']\n",
        "\n",
        "print(\"list to string: \", str(l))\n",
        "\n",
        "a = 10\n",
        "\n",
        "b = 11\n",
        "\n",
        "print(\"int to string: \", str(a) + str(b)) # concatenating both the strings\n",
        "\n",
        "c = 12.5\n",
        "\n",
        "print(\"float to string: \", str(c))"
      ],
      "metadata": {
        "colab": {
          "base_uri": "https://localhost:8080/"
        },
        "id": "cyvqf7bk59Ny",
        "outputId": "88095f78-2ce5-4f5e-e7c1-f542640abc1e"
      },
      "execution_count": 44,
      "outputs": [
        {
          "output_type": "stream",
          "name": "stdout",
          "text": [
            "list to string:  ['a', 'b', 'c']\n",
            "int to string:  1011\n",
            "float to string:  12.5\n"
          ]
        }
      ]
    },
    {
      "cell_type": "code",
      "source": [
        "# converting tuple and set to list\n",
        "\n",
        "t = (10, 20, 30) # we can also write tuple without parenthesis ()\n",
        "\n",
        "print(\"tuple to list: \", list(t))\n",
        "\n",
        "s = {10, 20, 30} # always unordered collection and no duplicate\n",
        "\n",
        "print(\"set to list: \", list(s))"
      ],
      "metadata": {
        "colab": {
          "base_uri": "https://localhost:8080/"
        },
        "id": "H-4cyHbvJtll",
        "outputId": "09b3f6be-b870-4e81-a5cc-168dd6951e50"
      },
      "execution_count": 45,
      "outputs": [
        {
          "output_type": "stream",
          "name": "stdout",
          "text": [
            "tuple to list:  [10, 20, 30]\n",
            "set to list:  [10, 20, 30]\n"
          ]
        }
      ]
    },
    {
      "cell_type": "code",
      "source": [
        "# integer to binary converstion\n",
        "\n",
        "a = 20\n",
        "\n",
        "print(\"int to binary 20 :\", bin(a)) # binary are 0 and 1\n",
        "\n",
        "print(\"int to hexa 20 :\", hex(a))\n",
        "\n",
        "print(\"int to octa 20 :\", oct(a))"
      ],
      "metadata": {
        "colab": {
          "base_uri": "https://localhost:8080/"
        },
        "id": "HVRnmLmIKwww",
        "outputId": "4ad8c3dd-546d-44a0-bbb4-c9f3a73ddfaf"
      },
      "execution_count": 46,
      "outputs": [
        {
          "output_type": "stream",
          "name": "stdout",
          "text": [
            "int to binary 20 : 0b10100\n",
            "int to hexa 20 : 0x14\n",
            "int to octa 20 : 0o24\n"
          ]
        }
      ]
    },
    {
      "cell_type": "code",
      "source": [
        "# binary to int conversion\n",
        "\n",
        "a = \"1001\"\n",
        "\n",
        "print(\"binary to int\", int(a, 2)) # in binary the base is 2\n",
        "\n",
        "b = \"A1\"\n",
        "\n",
        "print(\"hexa to int\", int(b, 16)) # in hexa the base is 16\n",
        "\n",
        "c = \"12\"\n",
        "\n",
        "print(\"octa to int\", int(c, 8)) # in octa the base is 8"
      ],
      "metadata": {
        "colab": {
          "base_uri": "https://localhost:8080/"
        },
        "id": "Gv_r3EWkMXWE",
        "outputId": "96a96182-98da-4baf-baec-4a0bcdef39e7"
      },
      "execution_count": 47,
      "outputs": [
        {
          "output_type": "stream",
          "name": "stdout",
          "text": [
            "binary to int 9\n",
            "hexa to int 161\n",
            "octa to int 10\n"
          ]
        }
      ]
    },
    {
      "cell_type": "markdown",
      "source": [
        "**Comments in Python**"
      ],
      "metadata": {
        "id": "sSwkt6NmY4H6"
      }
    },
    {
      "cell_type": "code",
      "source": [
        "# this is single line comment example\n",
        "\n",
        "\"\"\"\n",
        "This is a docstring example,\n",
        "not a multiline comment\n",
        "but can be understood to as multiline comment\n",
        "\"\"\""
      ],
      "metadata": {
        "colab": {
          "base_uri": "https://localhost:8080/",
          "height": 35
        },
        "id": "eKOG65EYQo35",
        "outputId": "20257391-fd9c-44aa-d854-03bf46486730"
      },
      "execution_count": 48,
      "outputs": [
        {
          "output_type": "execute_result",
          "data": {
            "text/plain": [
              "'\\nThis is a docstring example,\\nnot a multiline comment \\nbut can be understood to as multiline comment\\n'"
            ],
            "application/vnd.google.colaboratory.intrinsic+json": {
              "type": "string"
            }
          },
          "metadata": {},
          "execution_count": 48
        }
      ]
    },
    {
      "cell_type": "markdown",
      "source": [
        "**if, else and elif**"
      ],
      "metadata": {
        "id": "34PJfORDZrJr"
      }
    },
    {
      "cell_type": "code",
      "source": [
        "# to check if a number is even or odd\n",
        "\n",
        "n = int(input(\"Enter a number to check if it is even or odd: \"))\n",
        "\n",
        "if n%2==0:\n",
        "  print(\"The number is even\")\n",
        "else:\n",
        "  print(\"The number is odd\")"
      ],
      "metadata": {
        "colab": {
          "base_uri": "https://localhost:8080/"
        },
        "id": "JGfODvZbZXuO",
        "outputId": "94e5c2f4-9cc9-4a7f-a7ef-f772eb420a6e"
      },
      "execution_count": 49,
      "outputs": [
        {
          "output_type": "stream",
          "name": "stdout",
          "text": [
            "Enter a number to check if it is even or odd: 12\n",
            "The number is even\n"
          ]
        }
      ]
    },
    {
      "cell_type": "code",
      "source": [
        "# To check if a number is Positive, Negative or Zero\n",
        "\n",
        "n = int(input(\"Enter a number: \"))\n",
        "\n",
        "if n > 0:                                  # check if number is greater then 0\n",
        "  print(\"The Number entered is Positive\")\n",
        "elif n < 0:                                     # check if number is less than 0\n",
        "  print(\"The Number entered is Negative\")\n",
        "else:\n",
        "  print(\"The Number entered is Zero\")\n"
      ],
      "metadata": {
        "colab": {
          "base_uri": "https://localhost:8080/"
        },
        "id": "69Uik3Sian26",
        "outputId": "a47ecea9-7625-40d6-b3e9-7ef08174b506"
      },
      "execution_count": 50,
      "outputs": [
        {
          "output_type": "stream",
          "name": "stdout",
          "text": [
            "Enter a number: 12\n",
            "The Number entered is Positive\n"
          ]
        }
      ]
    },
    {
      "cell_type": "code",
      "source": [
        "# Using nested if-else finding if the number is : +ve even, -ve even\n",
        "\n",
        "n = int(input(\"Enter a number: \"))\n",
        "\n",
        "if n > 0:                                              # checking if number is greater\n",
        "  print(\"The number entered is postive\", end=\" \")\n",
        "  if n%2==0:                                           # checking if number is even, % (modulus operator) returns remaninder\n",
        "    print(\"even\")\n",
        "  else:\n",
        "    print(\"odd\")\n",
        "elif n < 0:                                            # checking if number is lesser\n",
        "  print(\"The number entered is negative\", end=\" \")\n",
        "  if n%2==0:\n",
        "    print(\"even\")\n",
        "  else:\n",
        "    print(\"odd\")\n",
        "else:\n",
        "  print(\"The number entered is zero which is neither -ve nor +ve\")"
      ],
      "metadata": {
        "colab": {
          "base_uri": "https://localhost:8080/"
        },
        "id": "2fmls8QGcO5e",
        "outputId": "ab4540be-a33a-483c-d8c0-dd7c497b3f06"
      },
      "execution_count": 52,
      "outputs": [
        {
          "output_type": "stream",
          "name": "stdout",
          "text": [
            "Enter a number: 12\n",
            "The number entered is postive even\n"
          ]
        }
      ]
    },
    {
      "cell_type": "markdown",
      "source": [
        "**Match Case Function in Python**"
      ],
      "metadata": {
        "id": "PhjDy-89ovat"
      }
    },
    {
      "cell_type": "code",
      "source": [
        "# match case is similar to if, elif, and else\n",
        "\n",
        "https = 201\n",
        "\n",
        "match https:\n",
        "  case 200 | 201:         # '|' means \"or\"\n",
        "    print(\"Success\")\n",
        "  case 400 | 401:\n",
        "    print(\"not found\")\n",
        "  case 500 | 501:\n",
        "    print(\"server error\")\n",
        "  case _:                 # 'case _' means smiliar to 'else'\n",
        "    print(\"unknown\")"
      ],
      "metadata": {
        "colab": {
          "base_uri": "https://localhost:8080/"
        },
        "id": "7a1atj-RotUl",
        "outputId": "5ca3acee-9428-4662-f94b-cad6a57f58f4"
      },
      "execution_count": 55,
      "outputs": [
        {
          "output_type": "stream",
          "name": "stdout",
          "text": [
            "Success\n"
          ]
        }
      ]
    },
    {
      "cell_type": "code",
      "source": [
        "# if, elif and else for the above program\n",
        "\n",
        "https = 401\n",
        "\n",
        "if https == 200 or https == 201:\n",
        "  print(\"Success\")\n",
        "elif https == 400 or https == 401:\n",
        "  print(\"not found\")\n",
        "elif https == 500 or https == 501:\n",
        "  print(\"server error\")\n",
        "else:\n",
        "  print(\"unknown\")"
      ],
      "metadata": {
        "colab": {
          "base_uri": "https://localhost:8080/"
        },
        "id": "4Yjbmf8Cr8ho",
        "outputId": "e12ea9b8-737c-4bc1-d397-f8e93e24515a"
      },
      "execution_count": 57,
      "outputs": [
        {
          "output_type": "stream",
          "name": "stdout",
          "text": [
            "not found\n"
          ]
        }
      ]
    },
    {
      "cell_type": "code",
      "source": [],
      "metadata": {
        "id": "GPmsM0StvtfH"
      },
      "execution_count": 60,
      "outputs": []
    }
  ]
}