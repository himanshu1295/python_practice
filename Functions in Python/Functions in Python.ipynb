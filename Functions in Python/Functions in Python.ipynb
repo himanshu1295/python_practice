{
 "cells": [
  {
   "cell_type": "markdown",
   "metadata": {},
   "source": [
    "**Functions in Python:**"
   ]
  },
  {
   "cell_type": "code",
   "execution_count": 1,
   "metadata": {},
   "outputs": [
    {
     "name": "stdout",
     "output_type": "stream",
     "text": [
      "before calling fun()\n",
      "fun() called\n",
      "after calling fun()\n"
     ]
    }
   ],
   "source": [
    "# Program 1:\n",
    "\n",
    "def fun():\n",
    "    print(\"fun() called\")  # it will be printed when fun is called\n",
    "\n",
    "\n",
    "print(\"before calling fun()\")\n",
    "\n",
    "fun()  # fun() is called\n",
    "\n",
    "print(\"after calling fun()\")"
   ]
  },
  {
   "cell_type": "code",
   "execution_count": 2,
   "metadata": {},
   "outputs": [
    {
     "name": "stdout",
     "output_type": "stream",
     "text": [
      "before calling fun()\n",
      "fun() called\n",
      "fun() called\n",
      "after calling fun()\n"
     ]
    }
   ],
   "source": [
    "# Program 2:\n",
    " \n",
    "def fun():\n",
    "    print(\"fun() called\")  # it will be printed when fun is called\n",
    "\n",
    "\n",
    "print(\"before calling fun()\")\n",
    "\n",
    "fun()  # fun() is called\n",
    "fun()  # fun()  is called\n",
    "\n",
    "print(\"after calling fun()\")"
   ]
  },
  {
   "cell_type": "code",
   "execution_count": 3,
   "metadata": {},
   "outputs": [
    {
     "name": "stdout",
     "output_type": "stream",
     "text": [
      "India became independence on:\n",
      "15-08-1947\n"
     ]
    }
   ],
   "source": [
    "# Passing parameter\n",
    "\n",
    "def printDate(d, m, y):\n",
    "    print(d, m, y, sep='-')\n",
    "\n",
    "\n",
    "print(\"India became independence on:\")\n",
    "\n",
    "printDate(\"15\", '08', '1947') # calling function"
   ]
  },
  {
   "cell_type": "code",
   "execution_count": 4,
   "metadata": {},
   "outputs": [
    {
     "name": "stdout",
     "output_type": "stream",
     "text": [
      "India became independence on:\n",
      "15-08-1947\n"
     ]
    }
   ],
   "source": [
    "# Return value\n",
    "\n",
    "def getDate(d, m, y):\n",
    "    return d + '-' + m + '-' + y\n",
    "\n",
    "\n",
    "print(\"India became independence on:\")\n",
    "\n",
    "d = getDate('15', '08', '1947')     # calling fun to return data\n",
    "\n",
    "print(d)"
   ]
  },
  {
   "cell_type": "code",
   "execution_count": 5,
   "metadata": {},
   "outputs": [
    {
     "name": "stdout",
     "output_type": "stream",
     "text": [
      "Hi\n",
      "Hope you are well!!\n",
      "Hope you are enjoying\n",
      "please visit again\n",
      "Bye\n"
     ]
    }
   ],
   "source": [
    "# Guess output of the following program :\n",
    "\n",
    "def greet_msg():\n",
    "    print(\"Hi\")\n",
    "    print(\"Hope you are well!!\")\n",
    "\n",
    "\n",
    "def exit_msg():\n",
    "    print(\"please visit again\")\n",
    "    print(\"Bye\")\n",
    "\n",
    "\n",
    "greet_msg()         # calling fun()\n",
    "\n",
    "print(\"Hope you are enjoying\")\n",
    "\n",
    "exit_msg()          # calling fun()"
   ]
  },
  {
   "cell_type": "code",
   "execution_count": null,
   "metadata": {},
   "outputs": [],
   "source": []
  }
 ],
 "metadata": {
  "kernelspec": {
   "display_name": "base",
   "language": "python",
   "name": "python3"
  },
  "language_info": {
   "codemirror_mode": {
    "name": "ipython",
    "version": 3
   },
   "file_extension": ".py",
   "mimetype": "text/x-python",
   "name": "python",
   "nbconvert_exporter": "python",
   "pygments_lexer": "ipython3",
   "version": "3.10.9"
  }
 },
 "nbformat": 4,
 "nbformat_minor": 2
}
